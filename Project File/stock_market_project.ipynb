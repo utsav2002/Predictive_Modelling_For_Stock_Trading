{
 "cells": [
  {
   "cell_type": "code",
   "execution_count": 1,
   "id": "a9ec07bd",
   "metadata": {
    "collapsed": false,
    "jupyter": {
     "outputs_hidden": false
    }
   },
   "outputs": [
    {
     "name": "stdout",
     "output_type": "stream",
     "text": [
      "Requirement already satisfied: smartapi-python in /opt/anaconda3/lib/python3.11/site-packages (1.4.8)\n",
      "Requirement already satisfied: requests>=2.18.4 in /opt/anaconda3/lib/python3.11/site-packages (from smartapi-python) (2.31.0)\n",
      "Requirement already satisfied: six>=1.11.0 in /opt/anaconda3/lib/python3.11/site-packages (from smartapi-python) (1.16.0)\n",
      "Requirement already satisfied: python-dateutil>=2.6.1 in /opt/anaconda3/lib/python3.11/site-packages (from smartapi-python) (2.8.2)\n",
      "Requirement already satisfied: charset-normalizer<4,>=2 in /opt/anaconda3/lib/python3.11/site-packages (from requests>=2.18.4->smartapi-python) (2.0.4)\n",
      "Requirement already satisfied: idna<4,>=2.5 in /opt/anaconda3/lib/python3.11/site-packages (from requests>=2.18.4->smartapi-python) (3.4)\n",
      "Requirement already satisfied: urllib3<3,>=1.21.1 in /opt/anaconda3/lib/python3.11/site-packages (from requests>=2.18.4->smartapi-python) (2.0.7)\n",
      "Requirement already satisfied: certifi>=2017.4.17 in /opt/anaconda3/lib/python3.11/site-packages (from requests>=2.18.4->smartapi-python) (2024.2.2)\n",
      "Note: you may need to restart the kernel to use updated packages.\n"
     ]
    }
   ],
   "source": [
    "pip install smartapi-python"
   ]
  },
  {
   "cell_type": "code",
   "execution_count": 2,
   "id": "ceb250aa-892c-4da1-9bee-ad843cc018d6",
   "metadata": {},
   "outputs": [
    {
     "ename": "ModuleNotFoundError",
     "evalue": "No module named 'smartapi'",
     "output_type": "error",
     "traceback": [
      "\u001B[0;31m---------------------------------------------------------------------------\u001B[0m",
      "\u001B[0;31mModuleNotFoundError\u001B[0m                       Traceback (most recent call last)",
      "Cell \u001B[0;32mIn[2], line 4\u001B[0m\n\u001B[1;32m      2\u001B[0m \u001B[38;5;28;01mfrom\u001B[39;00m \u001B[38;5;21;01mbs4\u001B[39;00m \u001B[38;5;28;01mimport\u001B[39;00m BeautifulSoup\n\u001B[1;32m      3\u001B[0m \u001B[38;5;28;01mimport\u001B[39;00m \u001B[38;5;21;01mpandas\u001B[39;00m \u001B[38;5;28;01mas\u001B[39;00m \u001B[38;5;21;01mpd\u001B[39;00m\n\u001B[0;32m----> 4\u001B[0m \u001B[38;5;28;01mfrom\u001B[39;00m \u001B[38;5;21;01msmartapi\u001B[39;00m \u001B[38;5;28;01mimport\u001B[39;00m Smartconnect\n",
      "\u001B[0;31mModuleNotFoundError\u001B[0m: No module named 'smartapi'"
     ]
    }
   ],
   "source": [
    "import requests\n",
    "from bs4 import BeautifulSoup\n",
    "import pandas as pd\n",
    "from smartapi import Smartconnect"
   ]
  },
  {
   "cell_type": "code",
   "execution_count": null,
   "id": "25957f1e-0151-4d0d-8082-907b8726c6ec",
   "metadata": {},
   "outputs": [],
   "source": [
    "# Angel one API data extraction\n",
    "ANGEL_ONE_API_KEY = \"ZOki8jzM\"\n",
    "ANGEL_ONE_SECRET_KEY = \"cca4898c-204f-4d4e-858e-8f4bd436698e\"\n",
    "ANGEL_ONE_API_TYPE = \"Historical\"\n",
    "\n",
    "angel_one_url = \"https://api.angelone.in/some/endpoint\"\n",
    "angel_one_headers = {\n",
    "    \"Authorization\": ANGEL_ONE_API_KEY,\n",
    "\n",
    "}\n",
    "angel_one_response = requests.get(angel_one_url, headers=angel_one_headers)\n",
    "print(angel_one_response.status_code)\n",
    "\n",
    "data = angel_one_response.json()\n",
    "print(data)"
   ]
  }
 ],
 "metadata": {
  "kernelspec": {
   "display_name": "Python 3 (ipykernel)",
   "language": "python",
   "name": "python3"
  },
  "language_info": {
   "codemirror_mode": {
    "name": "ipython",
    "version": 3
   },
   "file_extension": ".py",
   "mimetype": "text/x-python",
   "name": "python",
   "nbconvert_exporter": "python",
   "pygments_lexer": "ipython3",
   "version": "3.11.7"
  }
 },
 "nbformat": 4,
 "nbformat_minor": 5
}
