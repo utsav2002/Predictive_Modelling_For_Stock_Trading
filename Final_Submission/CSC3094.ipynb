{
  "nbformat": 4,
  "nbformat_minor": 0,
  "metadata": {
    "colab": {
      "provenance": []
    },
    "kernelspec": {
      "name": "python3",
      "display_name": "Python 3"
    },
    "language_info": {
      "name": "python"
    }
  },
  "cells": [
    {
      "cell_type": "code",
      "execution_count": null,
      "metadata": {
        "id": "AEYTGnTUq6h4",
        "colab": {
          "base_uri": "https://localhost:8080/"
        },
        "outputId": "54908dc3-6ae6-419b-8b5f-e5fdc1bad3dc"
      },
      "outputs": [
        {
          "output_type": "stream",
          "name": "stdout",
          "text": [
            "Requirement already satisfied: pandas in /usr/local/lib/python3.10/dist-packages (1.5.3)\n",
            "Requirement already satisfied: numpy in /usr/local/lib/python3.10/dist-packages (1.25.2)\n",
            "Requirement already satisfied: matplotlib in /usr/local/lib/python3.10/dist-packages (3.7.1)\n",
            "Collecting ta\n",
            "  Downloading ta-0.11.0.tar.gz (25 kB)\n",
            "  Preparing metadata (setup.py) ... \u001b[?25l\u001b[?25hdone\n",
            "Collecting vaderSentiment\n",
            "  Downloading vaderSentiment-3.3.2-py2.py3-none-any.whl (125 kB)\n",
            "\u001b[2K     \u001b[90m━━━━━━━━━━━━━━━━━━━━━━━━━━━━━━━━━━━━━━━━\u001b[0m \u001b[32m126.0/126.0 kB\u001b[0m \u001b[31m5.9 MB/s\u001b[0m eta \u001b[36m0:00:00\u001b[0m\n",
            "\u001b[?25hRequirement already satisfied: scikit-learn in /usr/local/lib/python3.10/dist-packages (1.2.2)\n",
            "Requirement already satisfied: python-dateutil>=2.8.1 in /usr/local/lib/python3.10/dist-packages (from pandas) (2.8.2)\n",
            "Requirement already satisfied: pytz>=2020.1 in /usr/local/lib/python3.10/dist-packages (from pandas) (2023.4)\n",
            "Requirement already satisfied: contourpy>=1.0.1 in /usr/local/lib/python3.10/dist-packages (from matplotlib) (1.2.0)\n",
            "Requirement already satisfied: cycler>=0.10 in /usr/local/lib/python3.10/dist-packages (from matplotlib) (0.12.1)\n",
            "Requirement already satisfied: fonttools>=4.22.0 in /usr/local/lib/python3.10/dist-packages (from matplotlib) (4.50.0)\n",
            "Requirement already satisfied: kiwisolver>=1.0.1 in /usr/local/lib/python3.10/dist-packages (from matplotlib) (1.4.5)\n",
            "Requirement already satisfied: packaging>=20.0 in /usr/local/lib/python3.10/dist-packages (from matplotlib) (24.0)\n",
            "Requirement already satisfied: pillow>=6.2.0 in /usr/local/lib/python3.10/dist-packages (from matplotlib) (9.4.0)\n",
            "Requirement already satisfied: pyparsing>=2.3.1 in /usr/local/lib/python3.10/dist-packages (from matplotlib) (3.1.2)\n",
            "Requirement already satisfied: requests in /usr/local/lib/python3.10/dist-packages (from vaderSentiment) (2.31.0)\n",
            "Requirement already satisfied: scipy>=1.3.2 in /usr/local/lib/python3.10/dist-packages (from scikit-learn) (1.11.4)\n",
            "Requirement already satisfied: joblib>=1.1.1 in /usr/local/lib/python3.10/dist-packages (from scikit-learn) (1.3.2)\n",
            "Requirement already satisfied: threadpoolctl>=2.0.0 in /usr/local/lib/python3.10/dist-packages (from scikit-learn) (3.4.0)\n",
            "Requirement already satisfied: six>=1.5 in /usr/local/lib/python3.10/dist-packages (from python-dateutil>=2.8.1->pandas) (1.16.0)\n",
            "Requirement already satisfied: charset-normalizer<4,>=2 in /usr/local/lib/python3.10/dist-packages (from requests->vaderSentiment) (3.3.2)\n",
            "Requirement already satisfied: idna<4,>=2.5 in /usr/local/lib/python3.10/dist-packages (from requests->vaderSentiment) (3.6)\n",
            "Requirement already satisfied: urllib3<3,>=1.21.1 in /usr/local/lib/python3.10/dist-packages (from requests->vaderSentiment) (2.0.7)\n",
            "Requirement already satisfied: certifi>=2017.4.17 in /usr/local/lib/python3.10/dist-packages (from requests->vaderSentiment) (2024.2.2)\n",
            "Building wheels for collected packages: ta\n",
            "  Building wheel for ta (setup.py) ... \u001b[?25l\u001b[?25hdone\n",
            "  Created wheel for ta: filename=ta-0.11.0-py3-none-any.whl size=29411 sha256=982a4e852ac074b48084de377d9e5cb42d7780a7f6c2d76214e6df87217514f1\n",
            "  Stored in directory: /root/.cache/pip/wheels/5f/67/4f/8a9f252836e053e532c6587a3230bc72a4deb16b03a829610b\n",
            "Successfully built ta\n",
            "Installing collected packages: vaderSentiment, ta\n",
            "Successfully installed ta-0.11.0 vaderSentiment-3.3.2\n",
            "Requirement already satisfied: requests in /usr/local/lib/python3.10/dist-packages (2.31.0)\n",
            "Requirement already satisfied: pandas in /usr/local/lib/python3.10/dist-packages (1.5.3)\n",
            "Requirement already satisfied: numpy in /usr/local/lib/python3.10/dist-packages (1.25.2)\n",
            "Requirement already satisfied: beautifulsoup4 in /usr/local/lib/python3.10/dist-packages (4.12.3)\n",
            "Requirement already satisfied: charset-normalizer<4,>=2 in /usr/local/lib/python3.10/dist-packages (from requests) (3.3.2)\n",
            "Requirement already satisfied: idna<4,>=2.5 in /usr/local/lib/python3.10/dist-packages (from requests) (3.6)\n",
            "Requirement already satisfied: urllib3<3,>=1.21.1 in /usr/local/lib/python3.10/dist-packages (from requests) (2.0.7)\n",
            "Requirement already satisfied: certifi>=2017.4.17 in /usr/local/lib/python3.10/dist-packages (from requests) (2024.2.2)\n",
            "Requirement already satisfied: python-dateutil>=2.8.1 in /usr/local/lib/python3.10/dist-packages (from pandas) (2.8.2)\n",
            "Requirement already satisfied: pytz>=2020.1 in /usr/local/lib/python3.10/dist-packages (from pandas) (2023.4)\n",
            "Requirement already satisfied: soupsieve>1.2 in /usr/local/lib/python3.10/dist-packages (from beautifulsoup4) (2.5)\n",
            "Requirement already satisfied: six>=1.5 in /usr/local/lib/python3.10/dist-packages (from python-dateutil>=2.8.1->pandas) (1.16.0)\n"
          ]
        }
      ],
      "source": [
        "!pip install pandas numpy matplotlib ta vaderSentiment scikit-learn\n",
        "!pip install requests pandas numpy beautifulsoup4\n"
      ]
    },
    {
      "cell_type": "markdown",
      "source": [
        "Data Collection & Preprocessing"
      ],
      "metadata": {
        "id": "RLkpAZYw10XL"
      }
    },
    {
      "cell_type": "markdown",
      "source": [
        "Get Historical Price Data"
      ],
      "metadata": {
        "id": "KBk7qZF82Aid"
      }
    },
    {
      "cell_type": "code",
      "source": [
        "!pip3 install smartapi-python"
      ],
      "metadata": {
        "colab": {
          "base_uri": "https://localhost:8080/"
        },
        "id": "I-uwNAZhJ8w6",
        "outputId": "7447040b-7fef-446a-e989-e5f3226ba5ec"
      },
      "execution_count": null,
      "outputs": [
        {
          "output_type": "stream",
          "name": "stdout",
          "text": [
            "Requirement already satisfied: smartapi-python in /usr/local/lib/python3.10/dist-packages (1.4.8)\n",
            "Requirement already satisfied: requests>=2.18.4 in /usr/local/lib/python3.10/dist-packages (from smartapi-python) (2.31.0)\n",
            "Requirement already satisfied: six>=1.11.0 in /usr/local/lib/python3.10/dist-packages (from smartapi-python) (1.16.0)\n",
            "Requirement already satisfied: python-dateutil>=2.6.1 in /usr/local/lib/python3.10/dist-packages (from smartapi-python) (2.8.2)\n",
            "Requirement already satisfied: charset-normalizer<4,>=2 in /usr/local/lib/python3.10/dist-packages (from requests>=2.18.4->smartapi-python) (3.3.2)\n",
            "Requirement already satisfied: idna<4,>=2.5 in /usr/local/lib/python3.10/dist-packages (from requests>=2.18.4->smartapi-python) (3.6)\n",
            "Requirement already satisfied: urllib3<3,>=1.21.1 in /usr/local/lib/python3.10/dist-packages (from requests>=2.18.4->smartapi-python) (2.0.7)\n",
            "Requirement already satisfied: certifi>=2017.4.17 in /usr/local/lib/python3.10/dist-packages (from requests>=2.18.4->smartapi-python) (2024.2.2)\n"
          ]
        }
      ]
    },
    {
      "cell_type": "code",
      "source": [
        "!pip install smartapi-python"
      ],
      "metadata": {
        "colab": {
          "base_uri": "https://localhost:8080/"
        },
        "id": "753TCR6kwxTV",
        "outputId": "f3a3c3ba-fbeb-4871-9b38-d7a1a008f8eb"
      },
      "execution_count": null,
      "outputs": [
        {
          "output_type": "stream",
          "name": "stdout",
          "text": [
            "Requirement already satisfied: smartapi-python in /usr/local/lib/python3.10/dist-packages (1.4.8)\n",
            "Requirement already satisfied: requests>=2.18.4 in /usr/local/lib/python3.10/dist-packages (from smartapi-python) (2.31.0)\n",
            "Requirement already satisfied: six>=1.11.0 in /usr/local/lib/python3.10/dist-packages (from smartapi-python) (1.16.0)\n",
            "Requirement already satisfied: python-dateutil>=2.6.1 in /usr/local/lib/python3.10/dist-packages (from smartapi-python) (2.8.2)\n",
            "Requirement already satisfied: charset-normalizer<4,>=2 in /usr/local/lib/python3.10/dist-packages (from requests>=2.18.4->smartapi-python) (3.3.2)\n",
            "Requirement already satisfied: idna<4,>=2.5 in /usr/local/lib/python3.10/dist-packages (from requests>=2.18.4->smartapi-python) (3.6)\n",
            "Requirement already satisfied: urllib3<3,>=1.21.1 in /usr/local/lib/python3.10/dist-packages (from requests>=2.18.4->smartapi-python) (2.0.7)\n",
            "Requirement already satisfied: certifi>=2017.4.17 in /usr/local/lib/python3.10/dist-packages (from requests>=2.18.4->smartapi-python) (2024.2.2)\n"
          ]
        }
      ]
    },
    {
      "cell_type": "code",
      "source": [
        "!cat /sys/class/net/eth0/address\n",
        "\n"
      ],
      "metadata": {
        "colab": {
          "base_uri": "https://localhost:8080/"
        },
        "id": "6CYAcLrbzezY",
        "outputId": "ac9de8d1-64c5-43d8-9356-16b7b3045954"
      },
      "execution_count": null,
      "outputs": [
        {
          "output_type": "stream",
          "name": "stdout",
          "text": [
            "02:42:ac:1c:00:0c\n"
          ]
        }
      ]
    },
    {
      "cell_type": "code",
      "source": [
        "user_name=\"test\"\n",
        "api_key=\"gMW5ai8p\"\n",
        "password=\"be975508-fdae-4db5-a719-e1ff947d4826\"\n",
        "feed_token=None\n",
        "token_map=None"
      ],
      "metadata": {
        "id": "zXnkmEIO2C4N"
      },
      "execution_count": null,
      "outputs": []
    },
    {
      "cell_type": "code",
      "source": [
        "!pip install logzero"
      ],
      "metadata": {
        "colab": {
          "base_uri": "https://localhost:8080/"
        },
        "id": "5Y286c333OQ-",
        "outputId": "7b74cc95-9ed2-4f0d-d72c-b406bc287024"
      },
      "execution_count": null,
      "outputs": [
        {
          "output_type": "stream",
          "name": "stdout",
          "text": [
            "Collecting logzero\n",
            "  Downloading logzero-1.7.0-py2.py3-none-any.whl (16 kB)\n",
            "Installing collected packages: logzero\n",
            "Successfully installed logzero-1.7.0\n"
          ]
        }
      ]
    },
    {
      "cell_type": "code",
      "source": [
        "!pip install pyotp"
      ],
      "metadata": {
        "colab": {
          "base_uri": "https://localhost:8080/"
        },
        "id": "kgwgnQF-4gBb",
        "outputId": "daa74550-3fb8-4213-f06b-8c5b8fa31b36"
      },
      "execution_count": null,
      "outputs": [
        {
          "output_type": "stream",
          "name": "stdout",
          "text": [
            "Collecting pyotp\n",
            "  Downloading pyotp-2.9.0-py3-none-any.whl (13 kB)\n",
            "Installing collected packages: pyotp\n",
            "Successfully installed pyotp-2.9.0\n"
          ]
        }
      ]
    },
    {
      "cell_type": "code",
      "source": [
        "import http.client\n",
        "import json  # Import json module to parse JSON response\n",
        "\n",
        "# Setup connection\n",
        "conn = http.client.HTTPSConnection(\"apiconnect.angelbroking.com\")\n",
        "\n",
        "# Prepare the payload with your actual details\n",
        "payload = json.dumps({\n",
        "    \"exchange\": \"NSE\",\n",
        "    \"symboltoken\": \"3045\",  # Update this to the symbol token for the asset you're interested in\n",
        "    \"interval\": \"ONE_MINUTE\",  # Or any other interval you're interested in\n",
        "    \"fromdate\": \"2021-02-08 09:00\",  # Start date and time\n",
        "    \"todate\": \"2021-02-08 09:16\"  # End date and time\n",
        "})\n",
        "\n",
        "# Prepare headers with your actual details\n",
        "headers = {\n",
        "    'X-PrivateKey': '2ebf4a7e-f1cb-4889-a2b2-6e88c7089269',  # Your SECRET KEY (if required by the API)\n",
        "    'Accept': 'application/json',\n",
        "    'X-SourceID': 'WEB',\n",
        "    'X-ClientLocalIP': '192.168.0.17',  # Replace with your local IP\n",
        "    'X-ClientPublicIP': '183.83.52.140',  # Replace with your public IP\n",
        "    'X-MACAddress': 'a0:78:17:b4:71:09',  # Replace with your MAC address\n",
        "    'X-UserType': 'USER',\n",
        "    'Authorization': 'Bearer o8k6pnpH',  # Your API KEY\n",
        "    'Content-Type': 'application/json'\n",
        "}\n",
        "\n",
        "# Send the request\n",
        "conn.request(\"POST\", \"/rest/secure/angelbroking/historical/v1/getCandleData\", payload, headers)\n",
        "\n",
        "# Get the response\n",
        "res = conn.getresponse()\n",
        "data = res.read()  # Reads the response body\n",
        "\n",
        "# Decode and print the response\n",
        "decoded_data = data.decode(\"utf-8\")  # Decode from bytes to string\n",
        "print(decoded_data)  # Print the raw response\n",
        "\n",
        "# Optionally, convert the response to a Python dictionary and handle it\n",
        "try:\n",
        "    data_dict = json.loads(decoded_data)\n",
        "    print(json.dumps(data_dict, indent=4))  # Pretty print the JSON\n",
        "except json.JSONDecodeError:\n",
        "    print(\"Failed to decode JSON from response\")"
      ],
      "metadata": {
        "id": "5W556We215sR",
        "colab": {
          "base_uri": "https://localhost:8080/"
        },
        "outputId": "8d9c784f-9b5b-456b-ff7a-c16e1255583a"
      },
      "execution_count": null,
      "outputs": [
        {
          "output_type": "stream",
          "name": "stdout",
          "text": [
            "{\"success\":false,\"message\":\"Invalid Token\",\"errorCode\":\"AG8001\",\"data\":\"\"}\n",
            "{\n",
            "    \"success\": false,\n",
            "    \"message\": \"Invalid Token\",\n",
            "    \"errorCode\": \"AG8001\",\n",
            "    \"data\": \"\"\n",
            "}\n"
          ]
        }
      ]
    },
    {
      "cell_type": "markdown",
      "source": [
        "Extract Relevant News Articles"
      ],
      "metadata": {
        "id": "I1FnCQRM2C3h"
      }
    },
    {
      "cell_type": "code",
      "source": [
        "from bs4 import BeautifulSoup\n",
        "import requests\n",
        "\n",
        "url = 'https://www.moneycontrol.com/news/tags/nifty.html'\n",
        "\n",
        "# Fetch the webpage content\n",
        "response = requests.get(url)\n",
        "soup = BeautifulSoup(response.content, 'html.parser')\n",
        "\n",
        "# Extract relevant news articles; adjust the selectors based on actual page structure\n",
        "articles = soup.find_all('li', class_='clearfix')\n",
        "news_data = [{'title': str(article.find('p')), 'link': article.find('a')['href']} for article in articles]\n"
      ],
      "metadata": {
        "id": "uyE7hM--2U_B"
      },
      "execution_count": null,
      "outputs": []
    },
    {
      "cell_type": "code",
      "source": [
        "from bs4 import BeautifulSoup\n",
        "import requests\n",
        "\n",
        "url = 'https://www.moneycontrol.com/news/tags/nifty50.html'\n",
        "\n",
        "# Fetch the webpage content\n",
        "response = requests.get(url)\n",
        "soup = BeautifulSoup(response.content, 'html.parser')\n",
        "\n",
        "# Extract relevant news articles; adjust the selectors based on actual page structure\n",
        "articles = soup.find_all('li', class_='clearfix')\n",
        "news_data1 = [{'title': str(article.find('p')), 'link': article.find('a')['href']} for article in articles]\n",
        "news_data.append(news_data1)"
      ],
      "metadata": {
        "id": "3T7-XgcZjYU5"
      },
      "execution_count": null,
      "outputs": []
    },
    {
      "cell_type": "markdown",
      "source": [
        "Data Preprocessing"
      ],
      "metadata": {
        "id": "mIBrVqOy2W6E"
      }
    },
    {
      "cell_type": "code",
      "source": [
        "from scipy import stats\n",
        "import pandas as pd\n",
        "import numpy as np\n",
        "df_nifty=pd.read_csv(\"NSEI.csv\")\n",
        "# Identify and handle outliers for 'close' prices\n",
        "z_scores = stats.zscore(df_nifty['Close'])\n",
        "abs_z_scores = np.abs(z_scores)\n",
        "filtered_entries = (abs_z_scores < 3)  # Adjust threshold as needed\n",
        "df_nifty_clean = df_nifty[filtered_entries]\n",
        "\n",
        "# Missing value imputation\n",
        "df_nifty_clean['Close'].fillna(df_nifty_clean['Close'].mean(), inplace=True)\n",
        "\n",
        "# Normalization\n",
        "df_nifty_clean['Close'] = (df_nifty_clean['Close'] - df_nifty_clean['Close'].min()) / (df_nifty_clean['Close'].max() - df_nifty_clean['Close'].min())\n"
      ],
      "metadata": {
        "id": "K6fXmMzd2Yz0"
      },
      "execution_count": null,
      "outputs": []
    },
    {
      "cell_type": "markdown",
      "source": [
        "Feature Selection"
      ],
      "metadata": {
        "id": "VwbVHMyT2a0A"
      }
    },
    {
      "cell_type": "markdown",
      "source": [
        "Feature Extraction"
      ],
      "metadata": {
        "id": "X0a98EA02fYo"
      }
    },
    {
      "cell_type": "code",
      "source": [
        "import pandas as pd\n",
        "import numpy as np\n",
        "from ta import add_all_ta_features\n",
        "from ta.utils import dropna\n",
        "from vaderSentiment.vaderSentiment import SentimentIntensityAnalyzer\n",
        "\n",
        "\n",
        "# Preprocess DataFrame\n",
        "df_nifty_clean = dropna(df_nifty_clean)  # Drop rows with NaN values.\n",
        "\n",
        "# Add financial indicators\n",
        "df_features = add_all_ta_features(\n",
        "    df_nifty_clean, open=\"Open\", high=\"High\", low=\"Low\", close=\"Close\", volume=\"Volume\", fillna=True\n",
        ")\n",
        "\n",
        "# Basic Sentiment Analysis on News Articles (assuming news_data is a list of news article texts)\n",
        "analyzer = SentimentIntensityAnalyzer()\n",
        "sentiments = [analyzer.polarity_scores(article['title'])['compound'] for article in news_data]\n",
        "\n",
        "df_features['news_sentiment'] = pd.Series(sentiments).mean()\n"
      ],
      "metadata": {
        "id": "LTDGKkH92cg8"
      },
      "execution_count": null,
      "outputs": []
    },
    {
      "cell_type": "code",
      "source": [
        "sentiments"
      ],
      "metadata": {
        "colab": {
          "base_uri": "https://localhost:8080/"
        },
        "id": "hy0GxKoDyifC",
        "outputId": "7a38393b-8dc1-432a-8869-6a34885ce2ce"
      },
      "execution_count": null,
      "outputs": [
        {
          "output_type": "execute_result",
          "data": {
            "text/plain": [
              "[0.4404,\n",
              " 0.6597,\n",
              " 0.128,\n",
              " 0.3818,\n",
              " 0.743,\n",
              " 0.5574,\n",
              " 0.4767,\n",
              " 0.8074,\n",
              " 0.0,\n",
              " -0.4767,\n",
              " 0.1477,\n",
              " 0.0,\n",
              " 0.9236,\n",
              " 0.0,\n",
              " 0.0,\n",
              " 0.6597,\n",
              " 0.0772,\n",
              " 0.4404,\n",
              " 0.0,\n",
              " 0.1027,\n",
              " 0.7003,\n",
              " 0.0,\n",
              " 0.0,\n",
              " 0.7506,\n",
              " 0.0]"
            ]
          },
          "metadata": {},
          "execution_count": 47
        }
      ]
    },
    {
      "cell_type": "code",
      "source": [
        "from vaderSentiment.vaderSentiment import SentimentIntensityAnalyzer\n",
        "from sklearn.feature_extraction.text import CountVectorizer\n",
        "\n",
        "# Example function to preprocess text and compute sentiment scores\n",
        "def compute_sentiment_scores(text):\n",
        "    analyzer = SentimentIntensityAnalyzer()\n",
        "    # Preprocessing to remove redundant words can be added here\n",
        "    sentiment_score = analyzer.polarity_scores(text)\n",
        "    return sentiment_score['compound']  # Using compound score as an example\n",
        "\n",
        "# Assuming 'news_articles' is a DataFrame containing your news articles text\n",
        "news_data[1]['title']\n"
      ],
      "metadata": {
        "colab": {
          "base_uri": "https://localhost:8080/",
          "height": 54
        },
        "id": "uGV5Nbv1rOx9",
        "outputId": "ae27c49c-0462-445d-cdf9-43758118205e"
      },
      "execution_count": null,
      "outputs": [
        {
          "output_type": "execute_result",
          "data": {
            "text/plain": [
              "'<p>The monthly options data indicated that 22,300 is expected to be crucial for the further Nifty direction with hurdle on the higher side at near record high levels (which is in between 22,500-22,600 levels), and support at 22,000 mark.</p>'"
            ],
            "application/vnd.google.colaboratory.intrinsic+json": {
              "type": "string"
            }
          },
          "metadata": {},
          "execution_count": 43
        }
      ]
    },
    {
      "cell_type": "markdown",
      "source": [
        "Statistical Analysis for Feature Selection\n",
        "python\n"
      ],
      "metadata": {
        "id": "yOS1dJ2K2hZR"
      }
    },
    {
      "cell_type": "code",
      "source": [
        "df_features['news_sentiment']"
      ],
      "metadata": {
        "colab": {
          "base_uri": "https://localhost:8080/"
        },
        "id": "-6W_iuMm7H8N",
        "outputId": "2c89ccc9-5fdf-4f31-c69c-fa598d9eba07"
      },
      "execution_count": null,
      "outputs": [
        {
          "output_type": "execute_result",
          "data": {
            "text/plain": [
              "0      0.300796\n",
              "2      0.300796\n",
              "3      0.300796\n",
              "4      0.300796\n",
              "5      0.300796\n",
              "         ...   \n",
              "239    0.300796\n",
              "240    0.300796\n",
              "241    0.300796\n",
              "242    0.300796\n",
              "243    0.300796\n",
              "Name: news_sentiment, Length: 241, dtype: float64"
            ]
          },
          "metadata": {},
          "execution_count": 48
        }
      ]
    },
    {
      "cell_type": "code",
      "source": [
        "from sklearn.feature_selection import SelectKBest, f_regression\n",
        "from sklearn.model_selection import train_test_split\n",
        "from sklearn.preprocessing import MinMaxScaler\n",
        "\n",
        "# Prepare data for feature selection\n",
        "X = df_features.drop(['Date', 'Close', 'news_sentiment'], axis=1)  # Exclude 'date' and 'close' from features\n",
        "y = df_features['Close']  # Target variable\n",
        "X_scaled = MinMaxScaler().fit_transform(X)  # Scale features\n",
        "\n",
        "# Split data into training and testing sets\n",
        "X_train, X_test, y_train, y_test = train_test_split(X_scaled, y, test_size=0.2, random_state=42)\n",
        "\n",
        "# Select top k features based on their correlation with the closing price\n",
        "selector = SelectKBest(score_func=f_regression, k='all')  # Replace 'all' with desired number of features\n",
        "selector.fit(X_train, y_train)\n",
        "\n",
        "# Get the scores for each feature\n",
        "feature_scores = pd.DataFrame({\n",
        "    'Feature': X.columns,\n",
        "    'Score': selector.scores_\n",
        "}).sort_values(by='Score', ascending=False)\n",
        "\n",
        "# Print feature scores\n",
        "print(feature_scores)\n"
      ],
      "metadata": {
        "id": "rfZzquvd2jgi",
        "colab": {
          "base_uri": "https://localhost:8080/"
        },
        "outputId": "2319bc8a-064f-4248-e2d0-a6218ff318db"
      },
      "execution_count": null,
      "outputs": [
        {
          "output_type": "stream",
          "name": "stdout",
          "text": [
            "              Feature         Score\n",
            "3           Adj Close  9.507599e+16\n",
            "90          others_cr  7.130699e+16\n",
            "2                 Low  9.399606e+04\n",
            "1                High  6.772106e+04\n",
            "0                Open  2.896360e+04\n",
            "..                ...           ...\n",
            "60          trend_cci  2.073363e-02\n",
            "86  momentum_pvo_hist  1.841099e-02\n",
            "9           volume_em  1.308460e-07\n",
            "27    volatility_kchi  0.000000e+00\n",
            "28    volatility_kcli  0.000000e+00\n",
            "\n",
            "[91 rows x 2 columns]\n"
          ]
        }
      ]
    },
    {
      "cell_type": "markdown",
      "source": [
        "Model Selection:"
      ],
      "metadata": {
        "id": "Nmr62Vhk2pA-"
      }
    },
    {
      "cell_type": "code",
      "source": [
        "from tensorflow.keras.models import Sequential\n",
        "from tensorflow.keras.layers import LSTM, Dense\n",
        "\n",
        "\n",
        "# Define your LSTM model\n",
        "model = Sequential()\n",
        "model.add(LSTM(units=50, return_sequences=True, input_shape=(X_train.shape[1], 1)))\n",
        "model.add(LSTM(units=50))\n",
        "model.add(Dense(1))\n",
        "\n",
        "model.compile(optimizer='adam', loss='mean_squared_error')\n",
        "model.fit(X_train, y_train, epochs=25, batch_size=32)\n"
      ],
      "metadata": {
        "id": "sNAUVWlA2q6o",
        "colab": {
          "base_uri": "https://localhost:8080/"
        },
        "outputId": "39210bb1-8474-436c-eacc-94ce161698c0"
      },
      "execution_count": null,
      "outputs": [
        {
          "output_type": "stream",
          "name": "stdout",
          "text": [
            "Epoch 1/25\n",
            "6/6 [==============================] - 4s 60ms/step - loss: 0.2301\n",
            "Epoch 2/25\n",
            "6/6 [==============================] - 0s 60ms/step - loss: 0.0758\n",
            "Epoch 3/25\n",
            "6/6 [==============================] - 0s 59ms/step - loss: 0.0581\n",
            "Epoch 4/25\n",
            "6/6 [==============================] - 0s 58ms/step - loss: 0.0604\n",
            "Epoch 5/25\n",
            "6/6 [==============================] - 0s 68ms/step - loss: 0.0518\n",
            "Epoch 6/25\n",
            "6/6 [==============================] - 1s 105ms/step - loss: 0.0519\n",
            "Epoch 7/25\n",
            "6/6 [==============================] - 1s 119ms/step - loss: 0.0494\n",
            "Epoch 8/25\n",
            "6/6 [==============================] - 1s 154ms/step - loss: 0.0504\n",
            "Epoch 9/25\n",
            "6/6 [==============================] - 1s 195ms/step - loss: 0.0482\n",
            "Epoch 10/25\n",
            "6/6 [==============================] - 2s 254ms/step - loss: 0.0488\n",
            "Epoch 11/25\n",
            "6/6 [==============================] - 2s 268ms/step - loss: 0.0466\n",
            "Epoch 12/25\n",
            "6/6 [==============================] - 1s 251ms/step - loss: 0.0455\n",
            "Epoch 13/25\n",
            "6/6 [==============================] - 2s 252ms/step - loss: 0.0448\n",
            "Epoch 14/25\n",
            "6/6 [==============================] - 1s 144ms/step - loss: 0.0426\n",
            "Epoch 15/25\n",
            "6/6 [==============================] - 1s 157ms/step - loss: 0.0410\n",
            "Epoch 16/25\n",
            "6/6 [==============================] - 1s 127ms/step - loss: 0.0348\n",
            "Epoch 17/25\n",
            "6/6 [==============================] - 1s 201ms/step - loss: 0.0229\n",
            "Epoch 18/25\n",
            "6/6 [==============================] - 1s 161ms/step - loss: 0.0202\n",
            "Epoch 19/25\n",
            "6/6 [==============================] - 1s 174ms/step - loss: 0.0223\n",
            "Epoch 20/25\n",
            "6/6 [==============================] - 1s 178ms/step - loss: 0.0187\n",
            "Epoch 21/25\n",
            "6/6 [==============================] - 1s 141ms/step - loss: 0.0155\n",
            "Epoch 22/25\n",
            "6/6 [==============================] - 1s 192ms/step - loss: 0.0108\n",
            "Epoch 23/25\n",
            "6/6 [==============================] - 1s 147ms/step - loss: 0.0105\n",
            "Epoch 24/25\n",
            "6/6 [==============================] - 1s 126ms/step - loss: 0.0105\n",
            "Epoch 25/25\n",
            "6/6 [==============================] - 1s 111ms/step - loss: 0.0077\n"
          ]
        },
        {
          "output_type": "execute_result",
          "data": {
            "text/plain": [
              "<keras.src.callbacks.History at 0x7ec7dd6a15d0>"
            ]
          },
          "metadata": {},
          "execution_count": 50
        }
      ]
    },
    {
      "cell_type": "code",
      "source": [
        "!pip install arch"
      ],
      "metadata": {
        "colab": {
          "base_uri": "https://localhost:8080/"
        },
        "id": "8pg4xb9U0ItQ",
        "outputId": "3656e185-0b07-4899-80b0-c7fe433737ac"
      },
      "execution_count": null,
      "outputs": [
        {
          "output_type": "stream",
          "name": "stdout",
          "text": [
            "Collecting arch\n",
            "  Downloading arch-6.3.0-cp310-cp310-manylinux_2_17_x86_64.manylinux2014_x86_64.whl (982 kB)\n",
            "\u001b[2K     \u001b[90m━━━━━━━━━━━━━━━━━━━━━━━━━━━━━━━━━━━━━━━━\u001b[0m \u001b[32m983.0/983.0 kB\u001b[0m \u001b[31m6.4 MB/s\u001b[0m eta \u001b[36m0:00:00\u001b[0m\n",
            "\u001b[?25hRequirement already satisfied: numpy>=1.19 in /usr/local/lib/python3.10/dist-packages (from arch) (1.25.2)\n",
            "Requirement already satisfied: scipy>=1.5 in /usr/local/lib/python3.10/dist-packages (from arch) (1.11.4)\n",
            "Requirement already satisfied: pandas>=1.1 in /usr/local/lib/python3.10/dist-packages (from arch) (1.5.3)\n",
            "Requirement already satisfied: statsmodels>=0.12 in /usr/local/lib/python3.10/dist-packages (from arch) (0.14.1)\n",
            "Requirement already satisfied: python-dateutil>=2.8.1 in /usr/local/lib/python3.10/dist-packages (from pandas>=1.1->arch) (2.8.2)\n",
            "Requirement already satisfied: pytz>=2020.1 in /usr/local/lib/python3.10/dist-packages (from pandas>=1.1->arch) (2023.4)\n",
            "Requirement already satisfied: patsy>=0.5.4 in /usr/local/lib/python3.10/dist-packages (from statsmodels>=0.12->arch) (0.5.6)\n",
            "Requirement already satisfied: packaging>=21.3 in /usr/local/lib/python3.10/dist-packages (from statsmodels>=0.12->arch) (24.0)\n",
            "Requirement already satisfied: six in /usr/local/lib/python3.10/dist-packages (from patsy>=0.5.4->statsmodels>=0.12->arch) (1.16.0)\n",
            "Installing collected packages: arch\n",
            "Successfully installed arch-6.3.0\n"
          ]
        }
      ]
    },
    {
      "cell_type": "code",
      "source": [
        "from statsmodels.tsa.arima.model import ARIMA\n",
        "from arch import arch_model\n",
        "\n",
        "\n",
        "arima_model = ARIMA(df_features['Close'], order=(5,1,0))\n",
        "arima_result = arima_model.fit()\n",
        "\n",
        "\n",
        "garch_model = arch_model(df_features['Close'], vol='Garch', p=1, q=1)\n",
        "garch_result = garch_model.fit()\n"
      ],
      "metadata": {
        "colab": {
          "base_uri": "https://localhost:8080/"
        },
        "id": "8KIdRyHdz5or",
        "outputId": "0a2d8b7a-3524-4a92-8dd1-62ce6ebaf573"
      },
      "execution_count": null,
      "outputs": [
        {
          "output_type": "stream",
          "name": "stderr",
          "text": [
            "/usr/local/lib/python3.10/dist-packages/statsmodels/tsa/base/tsa_model.py:473: ValueWarning: An unsupported index was provided and will be ignored when e.g. forecasting.\n",
            "  self._init_dates(dates, freq)\n",
            "/usr/local/lib/python3.10/dist-packages/statsmodels/tsa/base/tsa_model.py:473: ValueWarning: An unsupported index was provided and will be ignored when e.g. forecasting.\n",
            "  self._init_dates(dates, freq)\n",
            "/usr/local/lib/python3.10/dist-packages/statsmodels/tsa/base/tsa_model.py:473: ValueWarning: An unsupported index was provided and will be ignored when e.g. forecasting.\n",
            "  self._init_dates(dates, freq)\n"
          ]
        },
        {
          "output_type": "stream",
          "name": "stdout",
          "text": [
            "Iteration:      1,   Func. Count:      6,   Neg. LLF: 1023569828.5996825\n",
            "Iteration:      2,   Func. Count:     19,   Neg. LLF: 213625529.29688525\n",
            "Iteration:      3,   Func. Count:     25,   Neg. LLF: -65.7200071203575\n",
            "Iteration:      4,   Func. Count:     31,   Neg. LLF: 198.7456437276564\n",
            "Iteration:      5,   Func. Count:     38,   Neg. LLF: -157.0876147317692\n",
            "Iteration:      6,   Func. Count:     43,   Neg. LLF: -124.32449003367581\n",
            "Iteration:      7,   Func. Count:     49,   Neg. LLF: -160.23868713011075\n",
            "Iteration:      8,   Func. Count:     54,   Neg. LLF: -160.55710011647832\n",
            "Iteration:      9,   Func. Count:     59,   Neg. LLF: -160.70860231463172\n",
            "Iteration:     10,   Func. Count:     64,   Neg. LLF: -160.7106063623649\n",
            "Iteration:     11,   Func. Count:     69,   Neg. LLF: -160.7118774313322\n",
            "Iteration:     12,   Func. Count:     74,   Neg. LLF: -160.72452873288532\n",
            "Iteration:     13,   Func. Count:     79,   Neg. LLF: -132.96227061851292\n",
            "Iteration:     14,   Func. Count:     86,   Neg. LLF: -160.73600934288692\n",
            "Iteration:     15,   Func. Count:     91,   Neg. LLF: -160.7597012192642\n",
            "Iteration:     16,   Func. Count:     96,   Neg. LLF: -160.89095077719463\n",
            "Iteration:     17,   Func. Count:    101,   Neg. LLF: -158.80277609314186\n",
            "Iteration:     18,   Func. Count:    107,   Neg. LLF: -113.28146530067211\n",
            "Iteration:     19,   Func. Count:    113,   Neg. LLF: -161.1801406093619\n",
            "Iteration:     20,   Func. Count:    119,   Neg. LLF: -161.27856167364467\n",
            "Iteration:     21,   Func. Count:    124,   Neg. LLF: -161.29699589061966\n",
            "Iteration:     22,   Func. Count:    129,   Neg. LLF: -161.30137490519763\n",
            "Iteration:     23,   Func. Count:    134,   Neg. LLF: 33778.510212132525\n",
            "Iteration:     24,   Func. Count:    143,   Neg. LLF: 6732.948418646367\n",
            "Iteration:     25,   Func. Count:    150,   Neg. LLF: -161.2933216099188\n",
            "Iteration:     26,   Func. Count:    157,   Neg. LLF: -160.7384634965374\n",
            "Iteration:     27,   Func. Count:    164,   Neg. LLF: -161.30159527445855\n",
            "Iteration:     28,   Func. Count:    168,   Neg. LLF: -161.30159509634333\n",
            "Optimization terminated successfully    (Exit mode 0)\n",
            "            Current function value: -161.30159527445855\n",
            "            Iterations: 29\n",
            "            Function evaluations: 168\n",
            "            Gradient evaluations: 28\n"
          ]
        },
        {
          "output_type": "stream",
          "name": "stderr",
          "text": [
            "/usr/local/lib/python3.10/dist-packages/arch/univariate/base.py:311: DataScaleWarning: y is poorly scaled, which may affect convergence of the optimizer when\n",
            "estimating the model parameters. The scale of y is 0.06341. Parameter\n",
            "estimation work better when this value is between 1 and 1000. The recommended\n",
            "rescaling is 10 * y.\n",
            "\n",
            "This warning can be disabled by either rescaling y before initializing the\n",
            "model or by setting rescale=False.\n",
            "\n",
            "  warnings.warn(\n"
          ]
        }
      ]
    },
    {
      "cell_type": "code",
      "source": [
        "from sklearn.metrics import mean_squared_error, r2_score\n",
        "import numpy as np\n",
        "\n",
        "# Assuming X_test, y_test are your test datasets\n",
        "y_pred = model.predict(X_test)\n",
        "\n",
        "# Evaluate model performance\n",
        "mse = mean_squared_error(y_test, y_pred)\n",
        "rmse = np.sqrt(mse)\n",
        "r_squared = r2_score(y_test, y_pred)\n",
        "\n",
        "print(f\"MSE: {mse}, RMSE: {rmse}, R-squared: {r_squared}\")\n"
      ],
      "metadata": {
        "colab": {
          "base_uri": "https://localhost:8080/"
        },
        "id": "GxAbutwx79NE",
        "outputId": "dd398ad6-eed2-42f8-fde6-63e54f37f494"
      },
      "execution_count": null,
      "outputs": [
        {
          "output_type": "stream",
          "name": "stdout",
          "text": [
            "2/2 [==============================] - 1s 21ms/step\n",
            "MSE: 0.006752428340255548, RMSE: 0.08217316070503525, R-squared: 0.9102537299756441\n"
          ]
        }
      ]
    },
    {
      "cell_type": "code",
      "source": [
        "df_features['Close']"
      ],
      "metadata": {
        "colab": {
          "base_uri": "https://localhost:8080/"
        },
        "id": "hnthji2q-VOP",
        "outputId": "c2a04593-ece5-48ba-a3dd-1e6a0f0c000e"
      },
      "execution_count": null,
      "outputs": [
        {
          "output_type": "execute_result",
          "data": {
            "text/plain": [
              "0      0.006135\n",
              "2      0.023277\n",
              "3      0.073631\n",
              "4      0.080542\n",
              "5      0.109233\n",
              "         ...   \n",
              "239    0.920992\n",
              "240    0.878001\n",
              "241    0.881907\n",
              "242    0.913097\n",
              "243    0.928399\n",
              "Name: Close, Length: 241, dtype: float64"
            ]
          },
          "metadata": {},
          "execution_count": 55
        }
      ]
    },
    {
      "cell_type": "code",
      "source": [
        "from sklearn.preprocessing import StandardScaler\n",
        "input_features=df_features.drop(['Date', 'Close', 'news_sentiment'], axis=1)\n",
        "input_features_scaled = StandardScaler().fit_transform(input_features)  # Assuming you've a scaler from preprocessing\n",
        "\n",
        "\n",
        "df_features['predicted_close'] = np.nan  # Initialize column for predictions\n",
        "predicted_close = model.predict(input_features_scaled)\n",
        "df_features['predicted_close'] = predicted_close"
      ],
      "metadata": {
        "colab": {
          "base_uri": "https://localhost:8080/"
        },
        "id": "TQLeUksz8CiO",
        "outputId": "081f4493-f4ef-4115-8845-0342d9db59d8"
      },
      "execution_count": null,
      "outputs": [
        {
          "output_type": "stream",
          "name": "stdout",
          "text": [
            "8/8 [==============================] - 0s 43ms/step\n"
          ]
        }
      ]
    },
    {
      "cell_type": "code",
      "source": [
        "import matplotlib.pyplot as plt\n",
        "\n",
        "plt.figure(figsize=(14, 7))\n",
        "plt.plot(df_features['Date'], df_features['Close'], label='Actual Close Price', color='blue')\n",
        "plt.plot(df_features['Date'], df_features['Open'], label='Predicted Close Price', color='red')\n",
        "plt.title('Back-testing Model with Historical Data')\n",
        "plt.xlabel('Date')\n",
        "plt.ylabel('Price')\n",
        "plt.legend()\n",
        "plt.show()\n"
      ],
      "metadata": {
        "colab": {
          "base_uri": "https://localhost:8080/",
          "height": 641
        },
        "id": "nsGoAVaC-AqN",
        "outputId": "45f34fe9-932e-4904-e6d9-85676c4e525a"
      },
      "execution_count": null,
      "outputs": [
        {
          "output_type": "display_data",
          "data": {
            "text/plain": [
              "<Figure size 1400x700 with 1 Axes>"
            ],
            "image/png": "[encoded data removed]"
          },
          "metadata": {}
        }
      ]
    }
  ]
}